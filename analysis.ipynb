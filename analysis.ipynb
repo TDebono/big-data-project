{
 "cells": [
  {
   "cell_type": "code",
   "execution_count": 229,
   "metadata": {},
   "outputs": [],
   "source": [
    "import pandas as pd\n",
    "import numpy as np\n",
    "import os\n",
    "import glob\n",
    "import duckdb as db\n",
    "import matplotlib.pyplot as plt\n",
    "\n",
    "from helpers import load_full_df, delete_columns\n",
    "\n",
    "import textblob as tx\n",
    "from nltk.sentiment import SentimentIntensityAnalyzer\n",
    "from langdetect import detect\n",
    "\n",
    "from sklearn.model_selection import train_test_split\n",
    "from sklearn.ensemble import RandomForestClassifier\n",
    "from sklearn.metrics import accuracy_score, confusion_matrix, classification_report\n",
    "\n",
    "CSV_DIR_STRING = 'data/csv_files/'\n",
    "JSON_DIR_STRING = 'data/json_files/'\n",
    "TARGET_COL_NAME = 'label'"
   ]
  },
  {
   "cell_type": "code",
   "execution_count": 302,
   "metadata": {},
   "outputs": [],
   "source": [
    "def replacer(review: str) -> str:\n",
    "\n",
    "    replace = {\n",
    "                'á': 'a', \n",
    "                'é': 'e',\n",
    "                'ớ': 'o',\n",
    "                'ú': 'u',\n",
    "                'Á': 'A',\n",
    "                'É': 'E',\n",
    "                'Ớ': 'O',\n",
    "                'Ú': 'U'\n",
    "            }\n",
    "    \n",
    "    for key in replace.keys():\n",
    "        review = str(review).replace(key, replace[key])\n",
    "    \n",
    "    return review\n",
    "\n",
    "def mx(x):\n",
    "\n",
    "    if x == 'de':\n",
    "        x = 3\n",
    "    elif x == 'fr':\n",
    "        x = 2\n",
    "    elif x == 'en':\n",
    "        x = 1\n",
    "    else:\n",
    "        x = np.random.randint(1, 3)\n",
    "        \n",
    "    return x"
   ]
  },
  {
   "cell_type": "code",
   "execution_count": 303,
   "metadata": {},
   "outputs": [],
   "source": [
    "def preprocess(df, is_train=True):\n",
    "\n",
    "    if is_train:\n",
    "        df['vine'] = df['vine'].apply(lambda x: True if x == 'Y' else False)\n",
    "        df['verified_purchase'] = df['verified_purchase'].apply(lambda x: True if x == 'Y' else False)\n",
    "        df['review_date'] = df['review_date'].astype(str)\n",
    "\n",
    "        \n",
    "        df.set_index('Unnamed: 0', drop=True, inplace=True)\n",
    "        df.index.name = ''\n",
    "\n",
    "        df['review_body'] = df.apply(lambda x: replacer(x['review_body']) if x['marketplace_id'] != 2 else x['review_body'], axis=1)\n",
    "        df['review_headline'] = df.apply(lambda x: replacer(x['review_headline']) if x['marketplace_id'] != 2 else x['review_headline'], axis=1)\n",
    "\n",
    "        df['lens'] = df['review_body'].apply(lambda x: len(x))\n",
    "        df = df[df['lens'] >= 5]\n",
    "\n",
    "        # df['stars'] = df['review_body'].apply(lambda x: int(pipeline(x[0:512])[0]['label'][0]))\n",
    "\n",
    "        df = df[~df[\"review_body\"].str.contains('https://')]\n",
    "        df['marketplace_id'] = df.apply(lambda x: detect(x['review_body']) if x['marketplace_id'] == 0 else x['marketplace_id'], axis=1)\n",
    "        df = df[~df[\"marketplace_id\"].isin(['pt', 'sv', 'pl', 'nl', 'da', 'et', 'it', 'so', 'ca', 'af', 'fi', 'tl', 'sl', 'ro', 'sw', 'no', 'id'])]\n",
    "\n",
    "        df['marketplace_id'] = df['marketplace_id'].apply(lambda x: mx(x))\n",
    "        df['marketplace_id'] = df['marketplace_id'].astype(int)\n",
    "    else:\n",
    "        df['vine'] = df['vine'].apply(lambda x: True if x == 'Y' else False)\n",
    "        df['verified_purchase'] = df['verified_purchase'].apply(lambda x: True if x == 'Y' else False)\n",
    "        df['review_date'] = df['review_date'].astype(str)\n",
    "\n",
    "        \n",
    "        df.set_index('Unnamed: 0', drop=True, inplace=True)\n",
    "        df.index.name = ''\n",
    "\n",
    "        df['review_body'] = df.apply(lambda x: replacer(x['review_body']) if x['marketplace_id'] != 2 else x['review_body'], axis=1)\n",
    "        df['review_headline'] = df.apply(lambda x: replacer(x['review_headline']) if x['marketplace_id'] != 2 else x['review_headline'], axis=1)\n",
    "\n",
    "        df['lens'] = df['review_body'].apply(lambda x: len(x))\n",
    "        # df = df[df['lens'] >= 5]\n",
    "\n",
    "        # df['stars'] = df['review_body'].apply(lambda x: int(pipeline(x[0:512])[0]['label'][0]))\n",
    "\n",
    "        df = df[~df[\"review_body\"].str.contains('https://')]\n",
    "        df['marketplace_id'] = df.apply(lambda x: detect(x['review_body']) if x['marketplace_id'] == 0 else x['marketplace_id'], axis=1)\n",
    "        # df = df[~df[\"marketplace_id\"].isin(['pt', 'sv', 'pl', 'nl', 'da', 'et', 'it', 'so', 'ca', 'af', 'fi', 'tl', 'sl', 'ro', 'sw', 'no', 'id'])]\n",
    "\n",
    "        df['marketplace_id'] = df['marketplace_id'].apply(lambda x: mx(x))\n",
    "        # df['marketplace_id'] = df['marketplace_id'].astype(int)\n",
    "\n",
    "    return df"
   ]
  },
  {
   "cell_type": "code",
   "execution_count": 251,
   "metadata": {},
   "outputs": [],
   "source": [
    "df = load_full_df(CSV_DIR_STRING, JSON_DIR_STRING, load_json=False)"
   ]
  },
  {
   "cell_type": "code",
   "execution_count": 252,
   "metadata": {},
   "outputs": [],
   "source": [
    "df = preprocess(df)"
   ]
  },
  {
   "cell_type": "code",
   "execution_count": 319,
   "metadata": {},
   "outputs": [
    {
     "data": {
      "text/html": [
       "<div>\n",
       "<style scoped>\n",
       "    .dataframe tbody tr th:only-of-type {\n",
       "        vertical-align: middle;\n",
       "    }\n",
       "\n",
       "    .dataframe tbody tr th {\n",
       "        vertical-align: top;\n",
       "    }\n",
       "\n",
       "    .dataframe thead th {\n",
       "        text-align: right;\n",
       "    }\n",
       "</style>\n",
       "<table border=\"1\" class=\"dataframe\">\n",
       "  <thead>\n",
       "    <tr style=\"text-align: right;\">\n",
       "      <th></th>\n",
       "      <th>product_id</th>\n",
       "      <th>product_parent</th>\n",
       "      <th>product_title</th>\n",
       "      <th>vine</th>\n",
       "      <th>verified_purchase</th>\n",
       "      <th>review_headline</th>\n",
       "      <th>review_body</th>\n",
       "      <th>review_date</th>\n",
       "      <th>marketplace_id</th>\n",
       "      <th>product_category_id</th>\n",
       "      <th>label</th>\n",
       "      <th>lens</th>\n",
       "    </tr>\n",
       "    <tr>\n",
       "      <th></th>\n",
       "      <th></th>\n",
       "      <th></th>\n",
       "      <th></th>\n",
       "      <th></th>\n",
       "      <th></th>\n",
       "      <th></th>\n",
       "      <th></th>\n",
       "      <th></th>\n",
       "      <th></th>\n",
       "      <th></th>\n",
       "      <th></th>\n",
       "      <th></th>\n",
       "    </tr>\n",
       "  </thead>\n",
       "  <tbody>\n",
       "    <tr>\n",
       "      <th>9</th>\n",
       "      <td>B001N2MZT8</td>\n",
       "      <td>903886718</td>\n",
       "      <td>Green Zone [DVD]</td>\n",
       "      <td>False</td>\n",
       "      <td>True</td>\n",
       "      <td>green zone</td>\n",
       "      <td>I found at first it was a little difficult to ...</td>\n",
       "      <td>2010-11-15</td>\n",
       "      <td>1</td>\n",
       "      <td>3</td>\n",
       "      <td>False</td>\n",
       "      <td>450</td>\n",
       "    </tr>\n",
       "    <tr>\n",
       "      <th>11</th>\n",
       "      <td>B00GCBVE0Q</td>\n",
       "      <td>282740618</td>\n",
       "      <td>Le secret de Green Knowe</td>\n",
       "      <td>False</td>\n",
       "      <td>True</td>\n",
       "      <td>NaN</td>\n",
       "      <td>J'ai aimé cette histoire. Les acteurs - et sur...</td>\n",
       "      <td>2014-11-23</td>\n",
       "      <td>2</td>\n",
       "      <td>3</td>\n",
       "      <td>False</td>\n",
       "      <td>153</td>\n",
       "    </tr>\n",
       "    <tr>\n",
       "      <th>19</th>\n",
       "      <td>1423165691</td>\n",
       "      <td>883799517</td>\n",
       "      <td>A Disney Sketchbook.</td>\n",
       "      <td>False</td>\n",
       "      <td>False</td>\n",
       "      <td>okay mais...</td>\n",
       "      <td>est-ce une coincidence que la plupart des prin...</td>\n",
       "      <td>2012-12-22</td>\n",
       "      <td>2</td>\n",
       "      <td>0</td>\n",
       "      <td>False</td>\n",
       "      <td>246</td>\n",
       "    </tr>\n",
       "    <tr>\n",
       "      <th>33</th>\n",
       "      <td>0061091480</td>\n",
       "      <td>623343977</td>\n",
       "      <td>Your Erroneous Zones</td>\n",
       "      <td>False</td>\n",
       "      <td>False</td>\n",
       "      <td>Arrogant</td>\n",
       "      <td>Wayne Dyer is a popular american personal grow...</td>\n",
       "      <td>2009-07-21</td>\n",
       "      <td>1</td>\n",
       "      <td>0</td>\n",
       "      <td>True</td>\n",
       "      <td>325</td>\n",
       "    </tr>\n",
       "    <tr>\n",
       "      <th>34</th>\n",
       "      <td>B00HZ4CYOY</td>\n",
       "      <td>647510225</td>\n",
       "      <td>König der Mathematik Junior</td>\n",
       "      <td>False</td>\n",
       "      <td>True</td>\n",
       "      <td>Tolle Mathe App...</td>\n",
       "      <td>.....unsere Kids mögen diese Art des Lernens. ...</td>\n",
       "      <td>2015-06-01</td>\n",
       "      <td>3</td>\n",
       "      <td>1</td>\n",
       "      <td>False</td>\n",
       "      <td>156</td>\n",
       "    </tr>\n",
       "  </tbody>\n",
       "</table>\n",
       "</div>"
      ],
      "text/plain": [
       "    product_id  product_parent                product_title   vine  \\\n",
       "                                                                     \n",
       "9   B001N2MZT8       903886718             Green Zone [DVD]  False   \n",
       "11  B00GCBVE0Q       282740618     Le secret de Green Knowe  False   \n",
       "19  1423165691       883799517         A Disney Sketchbook.  False   \n",
       "33  0061091480       623343977         Your Erroneous Zones  False   \n",
       "34  B00HZ4CYOY       647510225  König der Mathematik Junior  False   \n",
       "\n",
       "    verified_purchase     review_headline  \\\n",
       "                                            \n",
       "9                True          green zone   \n",
       "11               True                 NaN   \n",
       "19              False        okay mais...   \n",
       "33              False            Arrogant   \n",
       "34               True  Tolle Mathe App...   \n",
       "\n",
       "                                          review_body review_date  \\\n",
       "                                                                    \n",
       "9   I found at first it was a little difficult to ...  2010-11-15   \n",
       "11  J'ai aimé cette histoire. Les acteurs - et sur...  2014-11-23   \n",
       "19  est-ce une coincidence que la plupart des prin...  2012-12-22   \n",
       "33  Wayne Dyer is a popular american personal grow...  2009-07-21   \n",
       "34  .....unsere Kids mögen diese Art des Lernens. ...  2015-06-01   \n",
       "\n",
       "    marketplace_id  product_category_id  label  lens  \n",
       "                                                      \n",
       "9                1                    3  False   450  \n",
       "11               2                    3  False   153  \n",
       "19               2                    0  False   246  \n",
       "33               1                    0   True   325  \n",
       "34               3                    1  False   156  "
      ]
     },
     "execution_count": 319,
     "metadata": {},
     "output_type": "execute_result"
    }
   ],
   "source": [
    "df.head()"
   ]
  },
  {
   "cell_type": "code",
   "execution_count": 185,
   "metadata": {},
   "outputs": [],
   "source": [
    "import missingno as mso"
   ]
  },
  {
   "cell_type": "code",
   "execution_count": 186,
   "metadata": {},
   "outputs": [
    {
     "data": {
      "image/png": "[encoded data removed]",
      "text/plain": [
       "<Figure size 2500x1000 with 2 Axes>"
      ]
     },
     "metadata": {},
     "output_type": "display_data"
    }
   ],
   "source": [
    "mso.matrix(df)\n",
    "plt.show()"
   ]
  },
  {
   "cell_type": "code",
   "execution_count": 214,
   "metadata": {},
   "outputs": [
    {
     "name": "stderr",
     "output_type": "stream",
     "text": [
      "Downloading: 100%|██████████| 39.0/39.0 [00:00<00:00, 13.0kB/s]\n",
      "Downloading: 100%|██████████| 953/953 [00:00<00:00, 105kB/s]\n",
      "Downloading: 100%|██████████| 851k/851k [00:00<00:00, 1.42MB/s]\n",
      "Downloading: 100%|██████████| 112/112 [00:00<00:00, 11.2kB/s]\n",
      "Downloading: 100%|██████████| 638M/638M [01:00<00:00, 11.0MB/s] \n"
     ]
    }
   ],
   "source": [
    "# from transformers import AutoTokenizer, AutoModelForSequenceClassification\n",
    "# from transformers import TextClassificationPipeline\n",
    "\n",
    "# tokenizer = AutoTokenizer.from_pretrained(\"nlptown/bert-base-multilingual-uncased-sentiment\")\n",
    "\n",
    "# model = AutoModelForSequenceClassification.from_pretrained(\"nlptown/bert-base-multilingual-uncased-sentiment\")"
   ]
  },
  {
   "cell_type": "code",
   "execution_count": 219,
   "metadata": {},
   "outputs": [],
   "source": [
    "# pipeline = TextClassificationPipeline(model=model, tokenizer=tokenizer)"
   ]
  },
  {
   "cell_type": "code",
   "execution_count": null,
   "metadata": {},
   "outputs": [],
   "source": [
    "# df['stars'] = df['review_body'].apply(lambda x: int(pipeline(x[0:512])[0]['label'][0]))"
   ]
  },
  {
   "cell_type": "code",
   "execution_count": 189,
   "metadata": {},
   "outputs": [],
   "source": [
    "# sia = SentimentIntensityAnalyzer()\n",
    "# df['review_sentiment'] = df['review_body'].apply(lambda x: sia.polarity_scores(x)['compound'])"
   ]
  },
  {
   "cell_type": "code",
   "execution_count": 83,
   "metadata": {},
   "outputs": [
    {
     "name": "stderr",
     "output_type": "stream",
     "text": [
      "Downloading: 100%|██████████| 1.18k/1.18k [00:00<00:00, 235kB/s]\n",
      "Downloading: 100%|██████████| 10.2k/10.2k [00:00<00:00, 1.09MB/s]\n",
      "Downloading: 100%|██████████| 612/612 [00:00<00:00, 61.2kB/s]\n",
      "Downloading: 100%|██████████| 116/116 [00:00<00:00, 12.9kB/s]\n",
      "Downloading: 100%|██████████| 39.3k/39.3k [00:00<00:00, 398kB/s]\n",
      "Downloading: 100%|██████████| 349/349 [00:00<00:00, 58.7kB/s]\n",
      "Downloading: 100%|██████████| 90.9M/90.9M [00:16<00:00, 5.52MB/s]\n",
      "Downloading: 100%|██████████| 53.0/53.0 [00:00<00:00, 17.8kB/s]\n",
      "Downloading: 100%|██████████| 112/112 [00:00<00:00, 28.1kB/s]\n",
      "Downloading: 100%|██████████| 466k/466k [00:00<00:00, 901kB/s] \n",
      "Downloading: 100%|██████████| 350/350 [00:00<00:00, 50.0kB/s]\n",
      "Downloading: 100%|██████████| 13.2k/13.2k [00:00<00:00, 2.63MB/s]\n",
      "Downloading: 100%|██████████| 232k/232k [00:00<00:00, 243kB/s]\n",
      "Downloading: 100%|██████████| 190/190 [00:00<00:00, 38.0kB/s]\n"
     ]
    }
   ],
   "source": [
    "# from sentence_transformers import SentenceTransformer\n",
    "# model = SentenceTransformer('all-MiniLM-L6-v2')"
   ]
  },
  {
   "cell_type": "code",
   "execution_count": 84,
   "metadata": {},
   "outputs": [],
   "source": [
    "# sentence_embeddings = model.encode(df['review_body'].iloc[0])"
   ]
  },
  {
   "cell_type": "code",
   "execution_count": 87,
   "metadata": {},
   "outputs": [
    {
     "name": "stderr",
     "output_type": "stream",
     "text": [
      "C:\\Users\\timod\\Anaconda3\\lib\\site-packages\\ipykernel_launcher.py:1: SettingWithCopyWarning: \n",
      "A value is trying to be set on a copy of a slice from a DataFrame.\n",
      "Try using .loc[row_indexer,col_indexer] = value instead\n",
      "\n",
      "See the caveats in the documentation: https://pandas.pydata.org/pandas-docs/stable/user_guide/indexing.html#returning-a-view-versus-a-copy\n",
      "  \"\"\"Entry point for launching an IPython kernel.\n"
     ]
    }
   ],
   "source": [
    "# df['review_body_embedding'] = df['review_body'].apply(lambda x: np.mean(model.encode(x)))"
   ]
  },
  {
   "cell_type": "code",
   "execution_count": 108,
   "metadata": {},
   "outputs": [
    {
     "name": "stderr",
     "output_type": "stream",
     "text": [
      "C:\\Users\\timod\\Anaconda3\\lib\\site-packages\\ipykernel_launcher.py:1: SettingWithCopyWarning: \n",
      "A value is trying to be set on a copy of a slice from a DataFrame.\n",
      "Try using .loc[row_indexer,col_indexer] = value instead\n",
      "\n",
      "See the caveats in the documentation: https://pandas.pydata.org/pandas-docs/stable/user_guide/indexing.html#returning-a-view-versus-a-copy\n",
      "  \"\"\"Entry point for launching an IPython kernel.\n"
     ]
    }
   ],
   "source": [
    "# df['review_body_embedding'] = df['review_body_embedding'].apply(lambda x: np.mean(x))"
   ]
  },
  {
   "cell_type": "code",
   "execution_count": 254,
   "metadata": {},
   "outputs": [],
   "source": [
    "qad_df = df.copy()\n",
    "delete_columns(qad_df, columns_to_delete=['product_id', 'product_title', 'vine', 'review_headline', 'review_body', 'review_date'])"
   ]
  },
  {
   "cell_type": "code",
   "execution_count": 256,
   "metadata": {},
   "outputs": [],
   "source": [
    "y = qad_df.pop('label')\n",
    "X = qad_df"
   ]
  },
  {
   "cell_type": "code",
   "execution_count": 257,
   "metadata": {},
   "outputs": [],
   "source": [
    "X_train, X_test, y_train, y_test = train_test_split(X, y, test_size=0.33, random_state=42)"
   ]
  },
  {
   "cell_type": "code",
   "execution_count": 354,
   "metadata": {},
   "outputs": [],
   "source": [
    "from xgboost import XGBClassifier\n",
    "from sklearn.model_selection import RandomizedSearchCV, GridSearchCV\n",
    "from sklearn.metrics import roc_auc_score\n",
    "from sklearn.model_selection import StratifiedKFold"
   ]
  },
  {
   "cell_type": "code",
   "execution_count": 431,
   "metadata": {},
   "outputs": [],
   "source": [
    "params = {\n",
    "        'min_child_weight': [1, 5, 10],\n",
    "        'gamma': [0.5, 1, 1.5, 2, 5],\n",
    "        'subsample': [0.6, 0.8, 1.0],\n",
    "        'max_features': ['auto', 'sqrt', 'log2'],\n",
    "        'max_depth': [3, 4, 5, 7],\n",
    "        'learning_rate': [0.1, 0.01, 0.05],\n",
    "        'n_estimators': [200, 1500],\n",
    "        'bootstrap': [False, True],\n",
    "\n",
    "        }"
   ]
  },
  {
   "cell_type": "code",
   "execution_count": 432,
   "metadata": {},
   "outputs": [
    {
     "name": "stdout",
     "output_type": "stream",
     "text": [
      "Fitting 3 folds for each of 20 candidates, totalling 60 fits\n"
     ]
    },
    {
     "name": "stderr",
     "output_type": "stream",
     "text": [
      "[Parallel(n_jobs=-1)]: Using backend LokyBackend with 4 concurrent workers.\n",
      "[Parallel(n_jobs=-1)]: Done  24 tasks      | elapsed:  1.2min\n",
      "[Parallel(n_jobs=-1)]: Done  60 out of  60 | elapsed:  3.1min finished\n",
      "C:\\Users\\timod\\Anaconda3\\lib\\site-packages\\xgboost\\sklearn.py:1224: UserWarning: The use of label encoder in XGBClassifier is deprecated and will be removed in a future release. To remove this warning, do the following: 1) Pass option use_label_encoder=False when constructing XGBClassifier object; and 2) Encode your labels (y) as integers starting with 0, i.e. 0, 1, 2, ..., [num_class - 1].\n",
      "  warnings.warn(label_encoder_deprecation_msg, UserWarning)\n"
     ]
    },
    {
     "name": "stdout",
     "output_type": "stream",
     "text": [
      "[17:53:41] WARNING: C:/Users/Administrator/workspace/xgboost-win64_release_1.5.1/src/learner.cc:576: \n",
      "Parameters: { \"bootstrap\", \"max_features\", \"silent\" } might not be used.\n",
      "\n",
      "  This could be a false alarm, with some parameters getting used by language bindings but\n",
      "  then being mistakenly passed down to XGBoost core, or some parameter actually being used\n",
      "  but getting flagged wrongly here. Please open an issue if you find any such cases.\n",
      "\n",
      "\n",
      "[17:53:41] WARNING: C:/Users/Administrator/workspace/xgboost-win64_release_1.5.1/src/learner.cc:1115: Starting in XGBoost 1.3.0, the default evaluation metric used with the objective 'binary:logistic' was changed from 'error' to 'logloss'. Explicitly set eval_metric if you'd like to restore the old behavior.\n"
     ]
    },
    {
     "data": {
      "text/plain": [
       "RandomizedSearchCV(cv=<generator object _BaseKFold.split at 0x0000024D54843CC8>,\n",
       "                   error_score=nan,\n",
       "                   estimator=XGBClassifier(base_score=None, booster=None,\n",
       "                                           colsample_bylevel=None,\n",
       "                                           colsample_bynode=None,\n",
       "                                           colsample_bytree=None,\n",
       "                                           enable_categorical=False, gamma=None,\n",
       "                                           gpu_id=None, importance_type=None,\n",
       "                                           interaction_constraints=None,\n",
       "                                           learning_rate=0.002,\n",
       "                                           max_delta_step=None,...\n",
       "                   param_distributions={'bootstrap': [False, True],\n",
       "                                        'gamma': [0.5, 1, 1.5, 2, 5],\n",
       "                                        'learning_rate': [0.1, 0.01, 0.05],\n",
       "                                        'max_depth': [3, 4, 5, 7],\n",
       "                                        'max_features': ['auto', 'sqrt',\n",
       "                                                         'log2'],\n",
       "                                        'min_child_weight': [1, 5, 10],\n",
       "                                        'n_estimators': [200, 1500],\n",
       "                                        'subsample': [0.6, 0.8, 1.0]},\n",
       "                   pre_dispatch='2*n_jobs', random_state=1001, refit=True,\n",
       "                   return_train_score=False, scoring='accuracy', verbose=3)"
      ]
     },
     "execution_count": 432,
     "metadata": {},
     "output_type": "execute_result"
    }
   ],
   "source": [
    "clf = XGBClassifier(learning_rate=0.002, n_estimators=1000, objective='binary:logistic',\n",
    "                    silent=True, nthread=-1)\n",
    "\n",
    "# clf = RandomForestClassifier()\n",
    "\n",
    "folds = 3\n",
    "param_comb = 20\n",
    "\n",
    "skf = StratifiedKFold(n_splits=folds, shuffle = True, random_state = 1001)\n",
    "\n",
    "random_search = RandomizedSearchCV(clf, param_distributions=params, n_iter=param_comb, scoring='accuracy', n_jobs=-1, cv=skf.split(X,y), verbose=3, random_state=1001)\n",
    "random_search.fit(X, y)"
   ]
  },
  {
   "cell_type": "code",
   "execution_count": 433,
   "metadata": {},
   "outputs": [],
   "source": [
    "y_pred = random_search.predict(X_test)"
   ]
  },
  {
   "cell_type": "code",
   "execution_count": 434,
   "metadata": {},
   "outputs": [
    {
     "data": {
      "text/plain": [
       "0.7642018406854967"
      ]
     },
     "execution_count": 434,
     "metadata": {},
     "output_type": "execute_result"
    }
   ],
   "source": [
    "accuracy_score(y_test, y_pred)"
   ]
  },
  {
   "cell_type": "code",
   "execution_count": 435,
   "metadata": {},
   "outputs": [],
   "source": [
    "test_df = pd.read_csv('test_hidden.csv')\n",
    "validation_df = pd.read_csv('validation_hidden.csv')"
   ]
  },
  {
   "cell_type": "code",
   "execution_count": 436,
   "metadata": {},
   "outputs": [],
   "source": [
    "test_df = preprocess(test_df, is_train=False)"
   ]
  },
  {
   "cell_type": "code",
   "execution_count": 437,
   "metadata": {},
   "outputs": [],
   "source": [
    "validation_df = preprocess(validation_df, is_train=False)"
   ]
  },
  {
   "cell_type": "code",
   "execution_count": 438,
   "metadata": {},
   "outputs": [],
   "source": [
    "COLUMNS = qad_df.columns.tolist()"
   ]
  },
  {
   "cell_type": "code",
   "execution_count": 439,
   "metadata": {},
   "outputs": [],
   "source": [
    "test_df = test_df[COLUMNS]"
   ]
  },
  {
   "cell_type": "code",
   "execution_count": 440,
   "metadata": {},
   "outputs": [],
   "source": [
    "validation_df = validation_df[COLUMNS]"
   ]
  },
  {
   "cell_type": "code",
   "execution_count": 441,
   "metadata": {},
   "outputs": [],
   "source": [
    "y_pred_test = random_search.predict(test_df)"
   ]
  },
  {
   "cell_type": "code",
   "execution_count": 442,
   "metadata": {},
   "outputs": [],
   "source": [
    "y_pred_val = random_search.predict(validation_df)"
   ]
  },
  {
   "cell_type": "code",
   "execution_count": 443,
   "metadata": {},
   "outputs": [],
   "source": [
    "y_pred_test = y_pred_test.astype(str)\n",
    "y_pred_val = y_pred_val.astype(str)"
   ]
  },
  {
   "cell_type": "code",
   "execution_count": 444,
   "metadata": {},
   "outputs": [],
   "source": [
    "np.savetxt(\"quick_and_dirty_test2.txt\", y_pred_test, delimiter=\",\", fmt='%s')\n",
    "np.savetxt(\"quick_and_dirty_val2.txt\", y_pred_val, delimiter=\",\", fmt='%s')"
   ]
  },
  {
   "cell_type": "code",
   "execution_count": null,
   "metadata": {},
   "outputs": [],
   "source": []
  },
  {
   "cell_type": "code",
   "execution_count": null,
   "metadata": {},
   "outputs": [],
   "source": []
  }
 ],
 "metadata": {
  "interpreter": {
   "hash": "1fb8e078cb962540c7e7ee51bf113dc58305575cec4abc5de20bbf9c14466811"
  },
  "kernelspec": {
   "display_name": "Python 3.7.6 ('base')",
   "language": "python",
   "name": "python3"
  },
  "language_info": {
   "codemirror_mode": {
    "name": "ipython",
    "version": 3
   },
   "file_extension": ".py",
   "mimetype": "text/x-python",
   "name": "python",
   "nbconvert_exporter": "python",
   "pygments_lexer": "ipython3",
   "version": "3.7.6"
  },
  "orig_nbformat": 4
 },
 "nbformat": 4,
 "nbformat_minor": 2
}
