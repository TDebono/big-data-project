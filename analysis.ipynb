{
 "cells": [
  {
   "cell_type": "code",
   "execution_count": 14,
   "metadata": {},
   "outputs": [],
   "source": [
    "import pandas as pd\n",
    "import numpy as np\n",
    "import os\n",
    "import glob\n",
    "import duckdb as db\n",
    "import matplotlib.pyplot as plt\n",
    "\n",
    "from helpers import load_full_df, delete_columns\n",
    "\n",
    "from sklearn.model_selection import train_test_split\n",
    "from sklearn.ensemble import RandomForestClassifier\n",
    "from sklearn.metrics import accuracy_score, confusion_matrix, classification_report\n",
    "\n",
    "CSV_DIR_STRING = 'data/csv_files/'\n",
    "JSON_DIR_STRING = 'data/json_files/'\n",
    "TARGET_COL_NAME = 'label'"
   ]
  },
  {
   "cell_type": "code",
   "execution_count": 16,
   "metadata": {},
   "outputs": [],
   "source": [
    "df = load_full_df(CSV_DIR_STRING, JSON_DIR_STRING, load_json=False)\n",
    "# delete_columns(df, columns_to_delete=['id_x', 'id_y', 'Unnamed: 0'])"
   ]
  },
  {
   "cell_type": "code",
   "execution_count": 17,
   "metadata": {},
   "outputs": [],
   "source": [
    "df['vine'] = df['vine'].apply(lambda x: True if x == 'Y' else False)\n",
    "df['verified_purchase'] = df['verified_purchase'].apply(lambda x: True if x == 'Y' else False)\n",
    "df['review_date'] = df['review_date'].astype(str)"
   ]
  },
  {
   "cell_type": "code",
   "execution_count": 18,
   "metadata": {},
   "outputs": [
    {
     "data": {
      "text/html": [
       "<div>\n",
       "<style scoped>\n",
       "    .dataframe tbody tr th:only-of-type {\n",
       "        vertical-align: middle;\n",
       "    }\n",
       "\n",
       "    .dataframe tbody tr th {\n",
       "        vertical-align: top;\n",
       "    }\n",
       "\n",
       "    .dataframe thead th {\n",
       "        text-align: right;\n",
       "    }\n",
       "</style>\n",
       "<table border=\"1\" class=\"dataframe\">\n",
       "  <thead>\n",
       "    <tr style=\"text-align: right;\">\n",
       "      <th></th>\n",
       "      <th>Unnamed: 0</th>\n",
       "      <th>product_id</th>\n",
       "      <th>product_parent</th>\n",
       "      <th>product_title</th>\n",
       "      <th>vine</th>\n",
       "      <th>verified_purchase</th>\n",
       "      <th>review_headline</th>\n",
       "      <th>review_body</th>\n",
       "      <th>review_date</th>\n",
       "      <th>marketplace_id</th>\n",
       "      <th>product_category_id</th>\n",
       "      <th>label</th>\n",
       "    </tr>\n",
       "  </thead>\n",
       "  <tbody>\n",
       "    <tr>\n",
       "      <th>0</th>\n",
       "      <td>9</td>\n",
       "      <td>B001N2MZT8</td>\n",
       "      <td>903886718</td>\n",
       "      <td>Green Zone [DVD]</td>\n",
       "      <td>False</td>\n",
       "      <td>True</td>\n",
       "      <td>green zone</td>\n",
       "      <td>I found at first it was a little difficult to ...</td>\n",
       "      <td>2010-11-15</td>\n",
       "      <td>1</td>\n",
       "      <td>3</td>\n",
       "      <td>False</td>\n",
       "    </tr>\n",
       "    <tr>\n",
       "      <th>1</th>\n",
       "      <td>11</td>\n",
       "      <td>B00GCBVE0Q</td>\n",
       "      <td>282740618</td>\n",
       "      <td>Le secret de Green Knowe</td>\n",
       "      <td>False</td>\n",
       "      <td>True</td>\n",
       "      <td>NaN</td>\n",
       "      <td>J'ai aimé cette histoire. Les acteurs - et sur...</td>\n",
       "      <td>2014-11-23</td>\n",
       "      <td>2</td>\n",
       "      <td>3</td>\n",
       "      <td>False</td>\n",
       "    </tr>\n",
       "    <tr>\n",
       "      <th>2</th>\n",
       "      <td>19</td>\n",
       "      <td>1423165691</td>\n",
       "      <td>883799517</td>\n",
       "      <td>A Disney Sketchbook.</td>\n",
       "      <td>False</td>\n",
       "      <td>False</td>\n",
       "      <td>okay mais...</td>\n",
       "      <td>est-ce une coincidence que la plupart des prin...</td>\n",
       "      <td>2012-12-22</td>\n",
       "      <td>0</td>\n",
       "      <td>0</td>\n",
       "      <td>False</td>\n",
       "    </tr>\n",
       "    <tr>\n",
       "      <th>3</th>\n",
       "      <td>33</td>\n",
       "      <td>0061091480</td>\n",
       "      <td>623343977</td>\n",
       "      <td>Your Erroneous Zones</td>\n",
       "      <td>False</td>\n",
       "      <td>False</td>\n",
       "      <td>Arrogant</td>\n",
       "      <td>Wáyné Dyér is á pớpúlár áméricán pérsớnál grớw...</td>\n",
       "      <td>2009-07-21</td>\n",
       "      <td>0</td>\n",
       "      <td>0</td>\n",
       "      <td>True</td>\n",
       "    </tr>\n",
       "    <tr>\n",
       "      <th>4</th>\n",
       "      <td>34</td>\n",
       "      <td>B00HZ4CYOY</td>\n",
       "      <td>647510225</td>\n",
       "      <td>König der Mathematik Junior</td>\n",
       "      <td>False</td>\n",
       "      <td>True</td>\n",
       "      <td>Tớllé Máthé Ápp...</td>\n",
       "      <td>.....unsere Kids mögen diese Art des Lernens. ...</td>\n",
       "      <td>2015-06-01</td>\n",
       "      <td>0</td>\n",
       "      <td>1</td>\n",
       "      <td>False</td>\n",
       "    </tr>\n",
       "  </tbody>\n",
       "</table>\n",
       "</div>"
      ],
      "text/plain": [
       "   Unnamed: 0  product_id  product_parent                product_title   vine  \\\n",
       "0           9  B001N2MZT8       903886718             Green Zone [DVD]  False   \n",
       "1          11  B00GCBVE0Q       282740618     Le secret de Green Knowe  False   \n",
       "2          19  1423165691       883799517         A Disney Sketchbook.  False   \n",
       "3          33  0061091480       623343977         Your Erroneous Zones  False   \n",
       "4          34  B00HZ4CYOY       647510225  König der Mathematik Junior  False   \n",
       "\n",
       "   verified_purchase     review_headline  \\\n",
       "0               True          green zone   \n",
       "1               True                 NaN   \n",
       "2              False        okay mais...   \n",
       "3              False            Arrogant   \n",
       "4               True  Tớllé Máthé Ápp...   \n",
       "\n",
       "                                         review_body review_date  \\\n",
       "0  I found at first it was a little difficult to ...  2010-11-15   \n",
       "1  J'ai aimé cette histoire. Les acteurs - et sur...  2014-11-23   \n",
       "2  est-ce une coincidence que la plupart des prin...  2012-12-22   \n",
       "3  Wáyné Dyér is á pớpúlár áméricán pérsớnál grớw...  2009-07-21   \n",
       "4  .....unsere Kids mögen diese Art des Lernens. ...  2015-06-01   \n",
       "\n",
       "   marketplace_id  product_category_id  label  \n",
       "0               1                    3  False  \n",
       "1               2                    3  False  \n",
       "2               0                    0  False  \n",
       "3               0                    0   True  \n",
       "4               0                    1  False  "
      ]
     },
     "execution_count": 18,
     "metadata": {},
     "output_type": "execute_result"
    }
   ],
   "source": [
    "df.head()"
   ]
  },
  {
   "cell_type": "code",
   "execution_count": 11,
   "metadata": {},
   "outputs": [],
   "source": [
    "import missingno as mso"
   ]
  },
  {
   "cell_type": "code",
   "execution_count": 19,
   "metadata": {},
   "outputs": [
    {
     "data": {
      "image/png": "[encoded data removed]",
      "text/plain": [
       "<Figure size 2500x1000 with 2 Axes>"
      ]
     },
     "metadata": {},
     "output_type": "display_data"
    }
   ],
   "source": [
    "mso.matrix(df)\n",
    "plt.show()"
   ]
  },
  {
   "cell_type": "code",
   "execution_count": 80,
   "metadata": {},
   "outputs": [],
   "source": [
    "def replacer(review: str) -> str:\n",
    "\n",
    "    replace = {\n",
    "                'á': 'a', \n",
    "                'é': 'e',\n",
    "                'ớ': 'o',\n",
    "                'ú': 'u',\n",
    "                'Á': 'A',\n",
    "                'É': 'E',\n",
    "                'Ớ': 'O',\n",
    "                'Ú': 'U'\n",
    "            }\n",
    "    \n",
    "    for key in replace.keys():\n",
    "        review = str(review).replace(key, replace[key])\n",
    "    \n",
    "    return review"
   ]
  },
  {
   "cell_type": "code",
   "execution_count": 81,
   "metadata": {},
   "outputs": [],
   "source": [
    "df['review_body'] = df.apply(lambda x: replacer(x['review_body']) if x['marketplace_id'] != 2 else x['review_body'], axis=1)\n",
    "df['review_headline'] = df.apply(lambda x: replacer(x['review_headline']) if x['marketplace_id'] != 2 else x['review_headline'], axis=1)"
   ]
  },
  {
   "cell_type": "code",
   "execution_count": 77,
   "metadata": {},
   "outputs": [],
   "source": [
    "sia = SentimentIntensityAnalyzer()\n",
    "df['review_sentiment'] = df['review_body'].apply(lambda x: sia.polarity_scores(x)['compound'])"
   ]
  },
  {
   "cell_type": "code",
   "execution_count": 78,
   "metadata": {},
   "outputs": [],
   "source": [
    "df_engl = df[df['marketplace_id'] == 1]"
   ]
  },
  {
   "cell_type": "code",
   "execution_count": 83,
   "metadata": {},
   "outputs": [
    {
     "name": "stderr",
     "output_type": "stream",
     "text": [
      "Downloading: 100%|██████████| 1.18k/1.18k [00:00<00:00, 235kB/s]\n",
      "Downloading: 100%|██████████| 10.2k/10.2k [00:00<00:00, 1.09MB/s]\n",
      "Downloading: 100%|██████████| 612/612 [00:00<00:00, 61.2kB/s]\n",
      "Downloading: 100%|██████████| 116/116 [00:00<00:00, 12.9kB/s]\n",
      "Downloading: 100%|██████████| 39.3k/39.3k [00:00<00:00, 398kB/s]\n",
      "Downloading: 100%|██████████| 349/349 [00:00<00:00, 58.7kB/s]\n",
      "Downloading: 100%|██████████| 90.9M/90.9M [00:16<00:00, 5.52MB/s]\n",
      "Downloading: 100%|██████████| 53.0/53.0 [00:00<00:00, 17.8kB/s]\n",
      "Downloading: 100%|██████████| 112/112 [00:00<00:00, 28.1kB/s]\n",
      "Downloading: 100%|██████████| 466k/466k [00:00<00:00, 901kB/s] \n",
      "Downloading: 100%|██████████| 350/350 [00:00<00:00, 50.0kB/s]\n",
      "Downloading: 100%|██████████| 13.2k/13.2k [00:00<00:00, 2.63MB/s]\n",
      "Downloading: 100%|██████████| 232k/232k [00:00<00:00, 243kB/s]\n",
      "Downloading: 100%|██████████| 190/190 [00:00<00:00, 38.0kB/s]\n"
     ]
    }
   ],
   "source": [
    "from sentence_transformers import SentenceTransformer\n",
    "model = SentenceTransformer('all-MiniLM-L6-v2')"
   ]
  },
  {
   "cell_type": "code",
   "execution_count": 84,
   "metadata": {},
   "outputs": [],
   "source": [
    "sentence_embeddings = model.encode(df_engl['review_body'].iloc[0])"
   ]
  },
  {
   "cell_type": "code",
   "execution_count": 87,
   "metadata": {},
   "outputs": [
    {
     "name": "stderr",
     "output_type": "stream",
     "text": [
      "C:\\Users\\timod\\Anaconda3\\lib\\site-packages\\ipykernel_launcher.py:1: SettingWithCopyWarning: \n",
      "A value is trying to be set on a copy of a slice from a DataFrame.\n",
      "Try using .loc[row_indexer,col_indexer] = value instead\n",
      "\n",
      "See the caveats in the documentation: https://pandas.pydata.org/pandas-docs/stable/user_guide/indexing.html#returning-a-view-versus-a-copy\n",
      "  \"\"\"Entry point for launching an IPython kernel.\n"
     ]
    }
   ],
   "source": [
    "df_engl['review_body_embedding'] = df_engl['review_body'].apply(lambda x: np.mean(model.encode(x)))"
   ]
  },
  {
   "cell_type": "code",
   "execution_count": 108,
   "metadata": {},
   "outputs": [
    {
     "name": "stderr",
     "output_type": "stream",
     "text": [
      "C:\\Users\\timod\\Anaconda3\\lib\\site-packages\\ipykernel_launcher.py:1: SettingWithCopyWarning: \n",
      "A value is trying to be set on a copy of a slice from a DataFrame.\n",
      "Try using .loc[row_indexer,col_indexer] = value instead\n",
      "\n",
      "See the caveats in the documentation: https://pandas.pydata.org/pandas-docs/stable/user_guide/indexing.html#returning-a-view-versus-a-copy\n",
      "  \"\"\"Entry point for launching an IPython kernel.\n"
     ]
    }
   ],
   "source": [
    "df_engl['review_body_embedding'] = df_engl['review_body_embedding'].apply(lambda x: np.mean(x))"
   ]
  },
  {
   "cell_type": "code",
   "execution_count": 109,
   "metadata": {},
   "outputs": [
    {
     "data": {
      "text/html": [
       "<div>\n",
       "<style scoped>\n",
       "    .dataframe tbody tr th:only-of-type {\n",
       "        vertical-align: middle;\n",
       "    }\n",
       "\n",
       "    .dataframe tbody tr th {\n",
       "        vertical-align: top;\n",
       "    }\n",
       "\n",
       "    .dataframe thead th {\n",
       "        text-align: right;\n",
       "    }\n",
       "</style>\n",
       "<table border=\"1\" class=\"dataframe\">\n",
       "  <thead>\n",
       "    <tr style=\"text-align: right;\">\n",
       "      <th></th>\n",
       "      <th>Unnamed: 0</th>\n",
       "      <th>product_id</th>\n",
       "      <th>product_parent</th>\n",
       "      <th>product_title</th>\n",
       "      <th>vine</th>\n",
       "      <th>verified_purchase</th>\n",
       "      <th>review_headline</th>\n",
       "      <th>review_body</th>\n",
       "      <th>review_date</th>\n",
       "      <th>marketplace_id</th>\n",
       "      <th>product_category_id</th>\n",
       "      <th>label</th>\n",
       "      <th>review_sentiment</th>\n",
       "      <th>review_body_embedding</th>\n",
       "    </tr>\n",
       "  </thead>\n",
       "  <tbody>\n",
       "    <tr>\n",
       "      <th>0</th>\n",
       "      <td>9</td>\n",
       "      <td>B001N2MZT8</td>\n",
       "      <td>903886718</td>\n",
       "      <td>Green Zone [DVD]</td>\n",
       "      <td>False</td>\n",
       "      <td>True</td>\n",
       "      <td>green zone</td>\n",
       "      <td>I found at first it was a little difficult to ...</td>\n",
       "      <td>2010-11-15</td>\n",
       "      <td>1</td>\n",
       "      <td>3</td>\n",
       "      <td>False</td>\n",
       "      <td>-0.2988</td>\n",
       "      <td>-0.000590</td>\n",
       "    </tr>\n",
       "    <tr>\n",
       "      <th>6</th>\n",
       "      <td>46</td>\n",
       "      <td>B007TK77QE</td>\n",
       "      <td>165338194</td>\n",
       "      <td>The Casual Vacancy</td>\n",
       "      <td>False</td>\n",
       "      <td>True</td>\n",
       "      <td>to long</td>\n",
       "      <td>To long poor end, is she working up to a follo...</td>\n",
       "      <td>2013-09-28</td>\n",
       "      <td>1</td>\n",
       "      <td>4</td>\n",
       "      <td>True</td>\n",
       "      <td>-0.3451</td>\n",
       "      <td>-0.001251</td>\n",
       "    </tr>\n",
       "    <tr>\n",
       "      <th>10</th>\n",
       "      <td>99</td>\n",
       "      <td>B00FNBYN5O</td>\n",
       "      <td>525973702</td>\n",
       "      <td>Gravity: Original Motion Picture Soundtrack</td>\n",
       "      <td>False</td>\n",
       "      <td>False</td>\n",
       "      <td>A soundtrack so good it vanishes.</td>\n",
       "      <td>I loved the film Gravity.  It is a technical m...</td>\n",
       "      <td>2014-03-03</td>\n",
       "      <td>1</td>\n",
       "      <td>12</td>\n",
       "      <td>True</td>\n",
       "      <td>0.9144</td>\n",
       "      <td>-0.000379</td>\n",
       "    </tr>\n",
       "    <tr>\n",
       "      <th>13</th>\n",
       "      <td>145</td>\n",
       "      <td>B005ZC7BLO</td>\n",
       "      <td>501966104</td>\n",
       "      <td>Bones - Season 7 [DVD]</td>\n",
       "      <td>False</td>\n",
       "      <td>True</td>\n",
       "      <td>Bones Season 7</td>\n",
       "      <td>If you already like Bones this may not be quit...</td>\n",
       "      <td>2012-12-12</td>\n",
       "      <td>1</td>\n",
       "      <td>3</td>\n",
       "      <td>False</td>\n",
       "      <td>0.8341</td>\n",
       "      <td>0.000279</td>\n",
       "    </tr>\n",
       "    <tr>\n",
       "      <th>15</th>\n",
       "      <td>196</td>\n",
       "      <td>B00FXLUBVE</td>\n",
       "      <td>313696235</td>\n",
       "      <td>X-Men - First Class</td>\n",
       "      <td>False</td>\n",
       "      <td>True</td>\n",
       "      <td>Easy watch</td>\n",
       "      <td>Great easy watch film</td>\n",
       "      <td>2014-12-16</td>\n",
       "      <td>1</td>\n",
       "      <td>9</td>\n",
       "      <td>False</td>\n",
       "      <td>0.7906</td>\n",
       "      <td>0.001776</td>\n",
       "    </tr>\n",
       "  </tbody>\n",
       "</table>\n",
       "</div>"
      ],
      "text/plain": [
       "    Unnamed: 0  product_id  product_parent  \\\n",
       "0            9  B001N2MZT8       903886718   \n",
       "6           46  B007TK77QE       165338194   \n",
       "10          99  B00FNBYN5O       525973702   \n",
       "13         145  B005ZC7BLO       501966104   \n",
       "15         196  B00FXLUBVE       313696235   \n",
       "\n",
       "                                  product_title   vine  verified_purchase  \\\n",
       "0                              Green Zone [DVD]  False               True   \n",
       "6                            The Casual Vacancy  False               True   \n",
       "10  Gravity: Original Motion Picture Soundtrack  False              False   \n",
       "13                       Bones - Season 7 [DVD]  False               True   \n",
       "15                          X-Men - First Class  False               True   \n",
       "\n",
       "                      review_headline  \\\n",
       "0                          green zone   \n",
       "6                             to long   \n",
       "10  A soundtrack so good it vanishes.   \n",
       "13                     Bones Season 7   \n",
       "15                         Easy watch   \n",
       "\n",
       "                                          review_body review_date  \\\n",
       "0   I found at first it was a little difficult to ...  2010-11-15   \n",
       "6   To long poor end, is she working up to a follo...  2013-09-28   \n",
       "10  I loved the film Gravity.  It is a technical m...  2014-03-03   \n",
       "13  If you already like Bones this may not be quit...  2012-12-12   \n",
       "15                              Great easy watch film  2014-12-16   \n",
       "\n",
       "    marketplace_id  product_category_id  label  review_sentiment  \\\n",
       "0                1                    3  False           -0.2988   \n",
       "6                1                    4   True           -0.3451   \n",
       "10               1                   12   True            0.9144   \n",
       "13               1                    3  False            0.8341   \n",
       "15               1                    9  False            0.7906   \n",
       "\n",
       "    review_body_embedding  \n",
       "0               -0.000590  \n",
       "6               -0.001251  \n",
       "10              -0.000379  \n",
       "13               0.000279  \n",
       "15               0.001776  "
      ]
     },
     "execution_count": 109,
     "metadata": {},
     "output_type": "execute_result"
    }
   ],
   "source": [
    "df_engl.head()"
   ]
  },
  {
   "cell_type": "code",
   "execution_count": 110,
   "metadata": {},
   "outputs": [],
   "source": [
    "qad_df = df_engl.copy()\n",
    "delete_columns(qad_df, columns_to_delete=['Unnamed: 0', 'product_title', 'review_headline', 'review_body', 'review_date', 'marketplace_id', 'vine', 'product_id'])"
   ]
  },
  {
   "cell_type": "code",
   "execution_count": 111,
   "metadata": {},
   "outputs": [
    {
     "data": {
      "text/html": [
       "<div>\n",
       "<style scoped>\n",
       "    .dataframe tbody tr th:only-of-type {\n",
       "        vertical-align: middle;\n",
       "    }\n",
       "\n",
       "    .dataframe tbody tr th {\n",
       "        vertical-align: top;\n",
       "    }\n",
       "\n",
       "    .dataframe thead th {\n",
       "        text-align: right;\n",
       "    }\n",
       "</style>\n",
       "<table border=\"1\" class=\"dataframe\">\n",
       "  <thead>\n",
       "    <tr style=\"text-align: right;\">\n",
       "      <th></th>\n",
       "      <th>product_parent</th>\n",
       "      <th>verified_purchase</th>\n",
       "      <th>product_category_id</th>\n",
       "      <th>label</th>\n",
       "      <th>review_sentiment</th>\n",
       "      <th>review_body_embedding</th>\n",
       "    </tr>\n",
       "  </thead>\n",
       "  <tbody>\n",
       "    <tr>\n",
       "      <th>0</th>\n",
       "      <td>903886718</td>\n",
       "      <td>True</td>\n",
       "      <td>3</td>\n",
       "      <td>False</td>\n",
       "      <td>-0.2988</td>\n",
       "      <td>-0.000590</td>\n",
       "    </tr>\n",
       "    <tr>\n",
       "      <th>6</th>\n",
       "      <td>165338194</td>\n",
       "      <td>True</td>\n",
       "      <td>4</td>\n",
       "      <td>True</td>\n",
       "      <td>-0.3451</td>\n",
       "      <td>-0.001251</td>\n",
       "    </tr>\n",
       "    <tr>\n",
       "      <th>10</th>\n",
       "      <td>525973702</td>\n",
       "      <td>False</td>\n",
       "      <td>12</td>\n",
       "      <td>True</td>\n",
       "      <td>0.9144</td>\n",
       "      <td>-0.000379</td>\n",
       "    </tr>\n",
       "    <tr>\n",
       "      <th>13</th>\n",
       "      <td>501966104</td>\n",
       "      <td>True</td>\n",
       "      <td>3</td>\n",
       "      <td>False</td>\n",
       "      <td>0.8341</td>\n",
       "      <td>0.000279</td>\n",
       "    </tr>\n",
       "    <tr>\n",
       "      <th>15</th>\n",
       "      <td>313696235</td>\n",
       "      <td>True</td>\n",
       "      <td>9</td>\n",
       "      <td>False</td>\n",
       "      <td>0.7906</td>\n",
       "      <td>0.001776</td>\n",
       "    </tr>\n",
       "  </tbody>\n",
       "</table>\n",
       "</div>"
      ],
      "text/plain": [
       "    product_parent  verified_purchase  product_category_id  label  \\\n",
       "0        903886718               True                    3  False   \n",
       "6        165338194               True                    4   True   \n",
       "10       525973702              False                   12   True   \n",
       "13       501966104               True                    3  False   \n",
       "15       313696235               True                    9  False   \n",
       "\n",
       "    review_sentiment  review_body_embedding  \n",
       "0            -0.2988              -0.000590  \n",
       "6            -0.3451              -0.001251  \n",
       "10            0.9144              -0.000379  \n",
       "13            0.8341               0.000279  \n",
       "15            0.7906               0.001776  "
      ]
     },
     "execution_count": 111,
     "metadata": {},
     "output_type": "execute_result"
    }
   ],
   "source": [
    "qad_df.head()"
   ]
  },
  {
   "cell_type": "code",
   "execution_count": 112,
   "metadata": {},
   "outputs": [],
   "source": [
    "y = qad_df.pop('label')\n",
    "X = qad_df"
   ]
  },
  {
   "cell_type": "code",
   "execution_count": 113,
   "metadata": {},
   "outputs": [],
   "source": [
    "X_train, X_test, y_train, y_test = train_test_split(X, y, test_size=0.33, random_state=42)"
   ]
  },
  {
   "cell_type": "code",
   "execution_count": 114,
   "metadata": {},
   "outputs": [
    {
     "data": {
      "text/plain": [
       "RandomForestClassifier(bootstrap=True, ccp_alpha=0.0, class_weight=None,\n",
       "                       criterion='gini', max_depth=None, max_features='auto',\n",
       "                       max_leaf_nodes=None, max_samples=None,\n",
       "                       min_impurity_decrease=0.0, min_impurity_split=None,\n",
       "                       min_samples_leaf=1, min_samples_split=2,\n",
       "                       min_weight_fraction_leaf=0.0, n_estimators=100,\n",
       "                       n_jobs=None, oob_score=False, random_state=None,\n",
       "                       verbose=0, warm_start=False)"
      ]
     },
     "execution_count": 114,
     "metadata": {},
     "output_type": "execute_result"
    }
   ],
   "source": [
    "clf = RandomForestClassifier()\n",
    "clf.fit(X_train, y_train)"
   ]
  },
  {
   "cell_type": "code",
   "execution_count": 115,
   "metadata": {},
   "outputs": [],
   "source": [
    "y_pred = clf.predict(X_test)"
   ]
  },
  {
   "cell_type": "code",
   "execution_count": 116,
   "metadata": {},
   "outputs": [
    {
     "data": {
      "text/plain": [
       "0.7443012884043607"
      ]
     },
     "execution_count": 116,
     "metadata": {},
     "output_type": "execute_result"
    }
   ],
   "source": [
    "accuracy_score(y_test, y_pred)"
   ]
  },
  {
   "cell_type": "code",
   "execution_count": 117,
   "metadata": {},
   "outputs": [],
   "source": [
    "test_df = pd.read_csv('test_hidden.csv')\n",
    "validation_df = pd.read_csv('validation_hidden.csv')"
   ]
  },
  {
   "cell_type": "code",
   "execution_count": 120,
   "metadata": {},
   "outputs": [],
   "source": [
    "test_df['vine'] = test_df['vine'].apply(lambda x: True if x == 'Y' else False)\n",
    "test_df['verified_purchase'] = test_df['verified_purchase'].apply(lambda x: True if x == 'Y' else False)\n",
    "validation_df['vine'] = validation_df['vine'].apply(lambda x: True if x == 'Y' else False)\n",
    "validation_df['verified_purchase'] = validation_df['verified_purchase'].apply(lambda x: True if x == 'Y' else False)\n",
    "\n",
    "test_df['review_body'] = test_df.apply(lambda x: replacer(x['review_body']) if x['marketplace_id'] != 2 else x['review_body'], axis=1)\n",
    "test_df['review_headline'] = test_df.apply(lambda x: replacer(x['review_headline']) if x['marketplace_id'] != 2 else x['review_headline'], axis=1)\n",
    "\n",
    "validation_df['review_body'] = validation_df.apply(lambda x: replacer(x['review_body']) if x['marketplace_id'] != 2 else x['review_body'], axis=1)\n",
    "validation_df['review_headline'] = validation_df.apply(lambda x: replacer(x['review_headline']) if x['marketplace_id'] != 2 else x['review_headline'], axis=1)\n",
    "\n",
    "test_df['review_sentiment'] = test_df['review_body'].apply(lambda x: sia.polarity_scores(x)['compound'])\n",
    "test_df['review_body_embedding'] = test_df['review_body'].apply(lambda x: np.mean(model.encode(x)))\n",
    "\n",
    "validation_df['review_sentiment'] = validation_df['review_body'].apply(lambda x: sia.polarity_scores(x)['compound'])\n",
    "validation_df['review_body_embedding'] = validation_df['review_body'].apply(lambda x: np.mean(model.encode(x)))"
   ]
  },
  {
   "cell_type": "code",
   "execution_count": 121,
   "metadata": {},
   "outputs": [],
   "source": [
    "test_df = test_df[['product_parent', 'verified_purchase', 'product_category_id', 'review_sentiment', 'review_body_embedding']]"
   ]
  },
  {
   "cell_type": "code",
   "execution_count": 122,
   "metadata": {},
   "outputs": [],
   "source": [
    "validation_df = validation_df[['product_parent', 'verified_purchase', 'product_category_id', 'review_sentiment', 'review_body_embedding']]"
   ]
  },
  {
   "cell_type": "code",
   "execution_count": 123,
   "metadata": {},
   "outputs": [],
   "source": [
    "y_pred_test = clf.predict(test_df)"
   ]
  },
  {
   "cell_type": "code",
   "execution_count": 124,
   "metadata": {},
   "outputs": [],
   "source": [
    "y_pred_val = clf.predict(validation_df)"
   ]
  },
  {
   "cell_type": "code",
   "execution_count": 125,
   "metadata": {},
   "outputs": [],
   "source": [
    "y_pred_test = y_pred_test.astype(str)\n",
    "y_pred_val = y_pred_val.astype(str)"
   ]
  },
  {
   "cell_type": "code",
   "execution_count": 126,
   "metadata": {},
   "outputs": [],
   "source": [
    "np.savetxt(\"quick_and_dirty_test2.txt\", y_pred_test, delimiter=\",\", fmt='%s')\n",
    "np.savetxt(\"quick_and_dirty_val2.txt\", y_pred_val, delimiter=\",\", fmt='%s')"
   ]
  },
  {
   "cell_type": "code",
   "execution_count": null,
   "metadata": {},
   "outputs": [],
   "source": []
  }
 ],
 "metadata": {
  "interpreter": {
   "hash": "1fb8e078cb962540c7e7ee51bf113dc58305575cec4abc5de20bbf9c14466811"
  },
  "kernelspec": {
   "display_name": "Python 3.7.6 ('base')",
   "language": "python",
   "name": "python3"
  },
  "language_info": {
   "codemirror_mode": {
    "name": "ipython",
    "version": 3
   },
   "file_extension": ".py",
   "mimetype": "text/x-python",
   "name": "python",
   "nbconvert_exporter": "python",
   "pygments_lexer": "ipython3",
   "version": "3.7.6"
  },
  "orig_nbformat": 4
 },
 "nbformat": 4,
 "nbformat_minor": 2
}
