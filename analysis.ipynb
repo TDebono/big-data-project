{
 "cells": [
  {
   "cell_type": "code",
   "execution_count": 5,
   "metadata": {},
   "outputs": [],
   "source": [
    "import pandas as pd\n",
    "import numpy as np\n",
    "import os\n",
    "import glob\n",
    "import duckdb as db\n",
    "\n",
    "from helpers import load_full_df, delete_columns\n",
    "\n",
    "from sklearn.model_selection import train_test_split\n",
    "from sklearn.ensemble import RandomForestClassifier\n",
    "from sklearn.metrics import accuracy_score, confusion_matrix, classification_report\n",
    "\n",
    "CSV_DIR_STRING = 'data/csv_files/'\n",
    "JSON_DIR_STRING = 'data/json_files/'\n",
    "TARGET_COL_NAME = 'label'"
   ]
  },
  {
   "cell_type": "code",
   "execution_count": 6,
   "metadata": {},
   "outputs": [],
   "source": [
    "df = load_full_df(CSV_DIR_STRING, JSON_DIR_STRING)\n",
    "delete_columns(df, columns_to_delete=['id_x', 'id_y', 'Unnamed: 0'])"
   ]
  },
  {
   "cell_type": "code",
   "execution_count": 7,
   "metadata": {},
   "outputs": [],
   "source": [
    "df['vine'] = df['vine'].apply(lambda x: True if x == 'Y' else False)\n",
    "df['verified_purchase'] = df['verified_purchase'].apply(lambda x: True if x == 'Y' else False)"
   ]
  },
  {
   "cell_type": "code",
   "execution_count": 18,
   "metadata": {},
   "outputs": [
    {
     "data": {
      "text/html": [
       "<div>\n",
       "<style scoped>\n",
       "    .dataframe tbody tr th:only-of-type {\n",
       "        vertical-align: middle;\n",
       "    }\n",
       "\n",
       "    .dataframe tbody tr th {\n",
       "        vertical-align: top;\n",
       "    }\n",
       "\n",
       "    .dataframe thead th {\n",
       "        text-align: right;\n",
       "    }\n",
       "</style>\n",
       "<table border=\"1\" class=\"dataframe\">\n",
       "  <thead>\n",
       "    <tr style=\"text-align: right;\">\n",
       "      <th></th>\n",
       "      <th>product_id</th>\n",
       "      <th>product_parent</th>\n",
       "      <th>product_title</th>\n",
       "      <th>vine</th>\n",
       "      <th>verified_purchase</th>\n",
       "      <th>review_headline</th>\n",
       "      <th>review_body</th>\n",
       "      <th>review_date</th>\n",
       "      <th>marketplace_id</th>\n",
       "      <th>product_category_id</th>\n",
       "      <th>country_marketplace</th>\n",
       "      <th>category_name</th>\n",
       "      <th>label</th>\n",
       "    </tr>\n",
       "  </thead>\n",
       "  <tbody>\n",
       "    <tr>\n",
       "      <th>0</th>\n",
       "      <td>B001N2MZT8</td>\n",
       "      <td>903886718</td>\n",
       "      <td>Green Zone [DVD]</td>\n",
       "      <td>False</td>\n",
       "      <td>True</td>\n",
       "      <td>green zone</td>\n",
       "      <td>I found at first it was a little difficult to ...</td>\n",
       "      <td>2010-11-15</td>\n",
       "      <td>1</td>\n",
       "      <td>3</td>\n",
       "      <td>UK</td>\n",
       "      <td>Video DVD</td>\n",
       "      <td>False</td>\n",
       "    </tr>\n",
       "    <tr>\n",
       "      <th>1</th>\n",
       "      <td>B005ZC7BLO</td>\n",
       "      <td>501966104</td>\n",
       "      <td>Bones - Season 7 [DVD]</td>\n",
       "      <td>False</td>\n",
       "      <td>True</td>\n",
       "      <td>Bones Season 7</td>\n",
       "      <td>If you already like Bones this may not be quit...</td>\n",
       "      <td>2012-12-12</td>\n",
       "      <td>1</td>\n",
       "      <td>3</td>\n",
       "      <td>UK</td>\n",
       "      <td>Video DVD</td>\n",
       "      <td>False</td>\n",
       "    </tr>\n",
       "    <tr>\n",
       "      <th>2</th>\n",
       "      <td>B000NTPCHE</td>\n",
       "      <td>671553677</td>\n",
       "      <td>To Catch A Thief [DVD] [1955]</td>\n",
       "      <td>False</td>\n",
       "      <td>False</td>\n",
       "      <td>Lovely film</td>\n",
       "      <td>I've always enjoyed this film, spectacular set...</td>\n",
       "      <td>2012-04-30</td>\n",
       "      <td>1</td>\n",
       "      <td>3</td>\n",
       "      <td>UK</td>\n",
       "      <td>Video DVD</td>\n",
       "      <td>True</td>\n",
       "    </tr>\n",
       "    <tr>\n",
       "      <th>3</th>\n",
       "      <td>B008BR79C6</td>\n",
       "      <td>410760130</td>\n",
       "      <td>Captain America [Blu-ray] [Region Free]</td>\n",
       "      <td>False</td>\n",
       "      <td>True</td>\n",
       "      <td>Best of the Rest</td>\n",
       "      <td>Surprised how much I enjoyed this movie, Capt ...</td>\n",
       "      <td>2014-03-12</td>\n",
       "      <td>1</td>\n",
       "      <td>3</td>\n",
       "      <td>UK</td>\n",
       "      <td>Video DVD</td>\n",
       "      <td>False</td>\n",
       "    </tr>\n",
       "    <tr>\n",
       "      <th>4</th>\n",
       "      <td>B007I1QUYE</td>\n",
       "      <td>38597042</td>\n",
       "      <td>Spider-Man Trilogy [Blu-ray] [Region Free]</td>\n",
       "      <td>False</td>\n",
       "      <td>True</td>\n",
       "      <td>AWESOME 3D</td>\n",
       "      <td>WHAT A FANTASTIC MOVIE, WOW 3D IS AWESOME</td>\n",
       "      <td>2014-10-06</td>\n",
       "      <td>1</td>\n",
       "      <td>3</td>\n",
       "      <td>UK</td>\n",
       "      <td>Video DVD</td>\n",
       "      <td>False</td>\n",
       "    </tr>\n",
       "  </tbody>\n",
       "</table>\n",
       "</div>"
      ],
      "text/plain": [
       "   product_id  product_parent                               product_title  \\\n",
       "0  B001N2MZT8       903886718                            Green Zone [DVD]   \n",
       "1  B005ZC7BLO       501966104                      Bones - Season 7 [DVD]   \n",
       "2  B000NTPCHE       671553677               To Catch A Thief [DVD] [1955]   \n",
       "3  B008BR79C6       410760130     Captain America [Blu-ray] [Region Free]   \n",
       "4  B007I1QUYE        38597042  Spider-Man Trilogy [Blu-ray] [Region Free]   \n",
       "\n",
       "    vine  verified_purchase   review_headline  \\\n",
       "0  False               True        green zone   \n",
       "1  False               True    Bones Season 7   \n",
       "2  False              False       Lovely film   \n",
       "3  False               True  Best of the Rest   \n",
       "4  False               True        AWESOME 3D   \n",
       "\n",
       "                                         review_body review_date  \\\n",
       "0  I found at first it was a little difficult to ...  2010-11-15   \n",
       "1  If you already like Bones this may not be quit...  2012-12-12   \n",
       "2  I've always enjoyed this film, spectacular set...  2012-04-30   \n",
       "3  Surprised how much I enjoyed this movie, Capt ...  2014-03-12   \n",
       "4          WHAT A FANTASTIC MOVIE, WOW 3D IS AWESOME  2014-10-06   \n",
       "\n",
       "   marketplace_id  product_category_id country_marketplace category_name  \\\n",
       "0               1                    3                  UK     Video DVD   \n",
       "1               1                    3                  UK     Video DVD   \n",
       "2               1                    3                  UK     Video DVD   \n",
       "3               1                    3                  UK     Video DVD   \n",
       "4               1                    3                  UK     Video DVD   \n",
       "\n",
       "   label  \n",
       "0  False  \n",
       "1  False  \n",
       "2   True  \n",
       "3  False  \n",
       "4  False  "
      ]
     },
     "execution_count": 18,
     "metadata": {},
     "output_type": "execute_result"
    }
   ],
   "source": [
    "df.head()"
   ]
  },
  {
   "cell_type": "code",
   "execution_count": 13,
   "metadata": {},
   "outputs": [],
   "source": [
    "df['review_date'] = df['review_date'].astype(str)"
   ]
  },
  {
   "cell_type": "code",
   "execution_count": 17,
   "metadata": {},
   "outputs": [
    {
     "data": {
      "text/plain": [
       "'1997-01-02'"
      ]
     },
     "execution_count": 17,
     "metadata": {},
     "output_type": "execute_result"
    }
   ],
   "source": [
    "df['review_date'].min()"
   ]
  },
  {
   "cell_type": "code",
   "execution_count": 19,
   "metadata": {},
   "outputs": [],
   "source": [
    "qad_df = df.copy()\n",
    "delete_columns(qad_df, columns_to_delete=['country_marketplace', 'category_name', 'product_id', 'product_title', 'review_headline', 'review_body', 'review_date'])"
   ]
  },
  {
   "cell_type": "code",
   "execution_count": 20,
   "metadata": {},
   "outputs": [
    {
     "data": {
      "text/html": [
       "<div>\n",
       "<style scoped>\n",
       "    .dataframe tbody tr th:only-of-type {\n",
       "        vertical-align: middle;\n",
       "    }\n",
       "\n",
       "    .dataframe tbody tr th {\n",
       "        vertical-align: top;\n",
       "    }\n",
       "\n",
       "    .dataframe thead th {\n",
       "        text-align: right;\n",
       "    }\n",
       "</style>\n",
       "<table border=\"1\" class=\"dataframe\">\n",
       "  <thead>\n",
       "    <tr style=\"text-align: right;\">\n",
       "      <th></th>\n",
       "      <th>product_parent</th>\n",
       "      <th>vine</th>\n",
       "      <th>verified_purchase</th>\n",
       "      <th>marketplace_id</th>\n",
       "      <th>product_category_id</th>\n",
       "      <th>label</th>\n",
       "    </tr>\n",
       "  </thead>\n",
       "  <tbody>\n",
       "    <tr>\n",
       "      <th>0</th>\n",
       "      <td>903886718</td>\n",
       "      <td>False</td>\n",
       "      <td>True</td>\n",
       "      <td>1</td>\n",
       "      <td>3</td>\n",
       "      <td>False</td>\n",
       "    </tr>\n",
       "    <tr>\n",
       "      <th>1</th>\n",
       "      <td>501966104</td>\n",
       "      <td>False</td>\n",
       "      <td>True</td>\n",
       "      <td>1</td>\n",
       "      <td>3</td>\n",
       "      <td>False</td>\n",
       "    </tr>\n",
       "    <tr>\n",
       "      <th>2</th>\n",
       "      <td>671553677</td>\n",
       "      <td>False</td>\n",
       "      <td>False</td>\n",
       "      <td>1</td>\n",
       "      <td>3</td>\n",
       "      <td>True</td>\n",
       "    </tr>\n",
       "    <tr>\n",
       "      <th>3</th>\n",
       "      <td>410760130</td>\n",
       "      <td>False</td>\n",
       "      <td>True</td>\n",
       "      <td>1</td>\n",
       "      <td>3</td>\n",
       "      <td>False</td>\n",
       "    </tr>\n",
       "    <tr>\n",
       "      <th>4</th>\n",
       "      <td>38597042</td>\n",
       "      <td>False</td>\n",
       "      <td>True</td>\n",
       "      <td>1</td>\n",
       "      <td>3</td>\n",
       "      <td>False</td>\n",
       "    </tr>\n",
       "  </tbody>\n",
       "</table>\n",
       "</div>"
      ],
      "text/plain": [
       "   product_parent   vine  verified_purchase  marketplace_id  \\\n",
       "0       903886718  False               True               1   \n",
       "1       501966104  False               True               1   \n",
       "2       671553677  False              False               1   \n",
       "3       410760130  False               True               1   \n",
       "4        38597042  False               True               1   \n",
       "\n",
       "   product_category_id  label  \n",
       "0                    3  False  \n",
       "1                    3  False  \n",
       "2                    3   True  \n",
       "3                    3  False  \n",
       "4                    3  False  "
      ]
     },
     "execution_count": 20,
     "metadata": {},
     "output_type": "execute_result"
    }
   ],
   "source": [
    "qad_df.head()"
   ]
  },
  {
   "cell_type": "code",
   "execution_count": 21,
   "metadata": {},
   "outputs": [],
   "source": [
    "y = qad_df.pop('label')\n",
    "X = qad_df"
   ]
  },
  {
   "cell_type": "code",
   "execution_count": 22,
   "metadata": {},
   "outputs": [],
   "source": [
    "X_train, X_test, y_train, y_test = train_test_split(X, y, test_size=0.33, random_state=42)"
   ]
  },
  {
   "cell_type": "code",
   "execution_count": 23,
   "metadata": {},
   "outputs": [
    {
     "data": {
      "text/plain": [
       "RandomForestClassifier(bootstrap=True, ccp_alpha=0.0, class_weight=None,\n",
       "                       criterion='gini', max_depth=None, max_features='auto',\n",
       "                       max_leaf_nodes=None, max_samples=None,\n",
       "                       min_impurity_decrease=0.0, min_impurity_split=None,\n",
       "                       min_samples_leaf=1, min_samples_split=2,\n",
       "                       min_weight_fraction_leaf=0.0, n_estimators=100,\n",
       "                       n_jobs=None, oob_score=False, random_state=None,\n",
       "                       verbose=0, warm_start=False)"
      ]
     },
     "execution_count": 23,
     "metadata": {},
     "output_type": "execute_result"
    }
   ],
   "source": [
    "clf = RandomForestClassifier()\n",
    "clf.fit(X_train, y_train)"
   ]
  },
  {
   "cell_type": "code",
   "execution_count": 24,
   "metadata": {},
   "outputs": [],
   "source": [
    "y_pred = clf.predict(X_test)"
   ]
  },
  {
   "cell_type": "code",
   "execution_count": 25,
   "metadata": {},
   "outputs": [
    {
     "data": {
      "text/plain": [
       "0.605735896627797"
      ]
     },
     "execution_count": 25,
     "metadata": {},
     "output_type": "execute_result"
    }
   ],
   "source": [
    "accuracy_score(y_test, y_pred)"
   ]
  },
  {
   "cell_type": "code",
   "execution_count": 27,
   "metadata": {},
   "outputs": [],
   "source": [
    "test_df = pd.read_csv('test_hidden.csv')\n",
    "validation_df = pd.read_csv('validation_hidden.csv')"
   ]
  },
  {
   "cell_type": "code",
   "execution_count": 28,
   "metadata": {},
   "outputs": [],
   "source": [
    "test_df['vine'] = test_df['vine'].apply(lambda x: True if x == 'Y' else False)\n",
    "test_df['verified_purchase'] = test_df['verified_purchase'].apply(lambda x: True if x == 'Y' else False)\n",
    "validation_df['vine'] = validation_df['vine'].apply(lambda x: True if x == 'Y' else False)\n",
    "validation_df['verified_purchase'] = validation_df['verified_purchase'].apply(lambda x: True if x == 'Y' else False)"
   ]
  },
  {
   "cell_type": "code",
   "execution_count": 30,
   "metadata": {},
   "outputs": [],
   "source": [
    "test_df = test_df[['product_parent', 'vine', 'verified_purchase', 'marketplace_id', 'product_category_id']]"
   ]
  },
  {
   "cell_type": "code",
   "execution_count": 31,
   "metadata": {},
   "outputs": [],
   "source": [
    "validation_df = validation_df[['product_parent', 'vine', 'verified_purchase', 'marketplace_id', 'product_category_id']]"
   ]
  },
  {
   "cell_type": "code",
   "execution_count": 32,
   "metadata": {},
   "outputs": [],
   "source": [
    "y_pred_test = clf.predict(test_df)"
   ]
  },
  {
   "cell_type": "code",
   "execution_count": 33,
   "metadata": {},
   "outputs": [],
   "source": [
    "y_pred_val = clf.predict(validation_df)"
   ]
  },
  {
   "cell_type": "code",
   "execution_count": 40,
   "metadata": {},
   "outputs": [],
   "source": [
    "y_pred_test = y_pred_test.astype(str)\n",
    "y_pred_val = y_pred_val.astype(str)"
   ]
  },
  {
   "cell_type": "code",
   "execution_count": 42,
   "metadata": {},
   "outputs": [],
   "source": [
    "np.savetxt(\"quick_and_dirty_test.txt\", y_pred_test, delimiter=\",\", fmt='%s')\n",
    "np.savetxt(\"quick_and_dirty_val.txt\", y_pred_val, delimiter=\",\", fmt='%s')"
   ]
  }
 ],
 "metadata": {
  "interpreter": {
   "hash": "1fb8e078cb962540c7e7ee51bf113dc58305575cec4abc5de20bbf9c14466811"
  },
  "kernelspec": {
   "display_name": "Python 3.7.6 ('base')",
   "language": "python",
   "name": "python3"
  },
  "language_info": {
   "codemirror_mode": {
    "name": "ipython",
    "version": 3
   },
   "file_extension": ".py",
   "mimetype": "text/x-python",
   "name": "python",
   "nbconvert_exporter": "python",
   "pygments_lexer": "ipython3",
   "version": "3.7.6"
  },
  "orig_nbformat": 4
 },
 "nbformat": 4,
 "nbformat_minor": 2
}
